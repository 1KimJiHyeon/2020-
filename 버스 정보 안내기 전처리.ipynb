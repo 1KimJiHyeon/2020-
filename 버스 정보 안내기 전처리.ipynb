{
  "nbformat": 4,
  "nbformat_minor": 0,
  "metadata": {
    "colab": {
      "name": "버스 정보 안내기 전처리.ipynb",
      "provenance": [],
      "private_outputs": true,
      "collapsed_sections": [],
      "authorship_tag": "ABX9TyNcHxabIIqfgt28y0AUKgd2",
      "include_colab_link": true
    },
    "kernelspec": {
      "name": "python3",
      "display_name": "Python 3"
    }
  },
  "cells": [
    {
      "cell_type": "markdown",
      "metadata": {
        "id": "view-in-github",
        "colab_type": "text"
      },
      "source": [
        "<a href=\"https://colab.research.google.com/github/1KimJiHyeon/2020-Changwon-BigData-Contest/blob/master/%EB%B2%84%EC%8A%A4%20%EC%A0%95%EB%B3%B4%20%EC%95%88%EB%82%B4%EA%B8%B0%20%EC%A0%84%EC%B2%98%EB%A6%AC.ipynb\" target=\"_parent\"><img src=\"https://colab.research.google.com/assets/colab-badge.svg\" alt=\"Open In Colab\"/></a>"
      ]
    },
    {
      "cell_type": "code",
      "metadata": {
        "id": "3t1mrf7dAUC1",
        "colab_type": "code",
        "colab": {}
      },
      "source": [
        "import os\n",
        "import pandas as pd\n",
        "import numpy as np\n",
        "\n",
        "from google.colab import drive"
      ],
      "execution_count": null,
      "outputs": []
    },
    {
      "cell_type": "code",
      "metadata": {
        "id": "3E3QFGbwAV_F",
        "colab_type": "code",
        "colab": {}
      },
      "source": [
        "if not os.path.exists('/content/drive'):\n",
        "  drive.mount('/content/drive')"
      ],
      "execution_count": null,
      "outputs": []
    },
    {
      "cell_type": "code",
      "metadata": {
        "id": "O7UvL78LAXM-",
        "colab_type": "code",
        "colab": {}
      },
      "source": [
        "cd '/content/drive/My Drive/dataset'"
      ],
      "execution_count": null,
      "outputs": []
    },
    {
      "cell_type": "code",
      "metadata": {
        "id": "if-bV3V1AckL",
        "colab_type": "code",
        "colab": {}
      },
      "source": [
        "address_df = pd.read_excel('address.xlsx',sheet_name='Sheet1')"
      ],
      "execution_count": null,
      "outputs": []
    },
    {
      "cell_type": "code",
      "metadata": {
        "id": "MItdKcO9AeJs",
        "colab_type": "code",
        "colab": {}
      },
      "source": [
        "bus_information_df = pd.read_excel('bus_information.xlsx',sheet_name='Sheet1')"
      ],
      "execution_count": null,
      "outputs": []
    },
    {
      "cell_type": "code",
      "metadata": {
        "id": "t7QhaQ8bAiV9",
        "colab_type": "code",
        "colab": {}
      },
      "source": [
        "bus_stop_df = pd.read_csv('bus_stop.csv',encoding='euc-kr')"
      ],
      "execution_count": null,
      "outputs": []
    },
    {
      "cell_type": "code",
      "metadata": {
        "id": "aJldEI-VAkSV",
        "colab_type": "code",
        "colab": {}
      },
      "source": [
        "bus_stop_df.drop(['정류장명','주소','위도','경도','Unnamed: 6'], axis=1, inplace=True)"
      ],
      "execution_count": null,
      "outputs": []
    },
    {
      "cell_type": "code",
      "metadata": {
        "id": "ZhLsdoq-Am7D",
        "colab_type": "code",
        "colab": {}
      },
      "source": [
        "bus_stop_df"
      ],
      "execution_count": null,
      "outputs": []
    },
    {
      "cell_type": "code",
      "metadata": {
        "id": "qTLBETHHAnvm",
        "colab_type": "code",
        "colab": {}
      },
      "source": [
        "bus_stop_null = bus_information_df[bus_information_df['주소'].isnull()==True]\n",
        "                       \n",
        "bus_stop_null_list = list(bus_stop_null['모바일ID'])         \n",
        "\n",
        "for i in bus_stop_null_list:\n",
        "    if type(i) != int:\n",
        "        error = bus_stop_null_list.index(i)\n",
        "        bus_stop_null_list.remove(i)\n",
        "        \n",
        "\n",
        "bus_stop_null = bus_stop_null[:error]"
      ],
      "execution_count": null,
      "outputs": []
    },
    {
      "cell_type": "code",
      "metadata": {
        "id": "KczFYhrDBAIn",
        "colab_type": "code",
        "colab": {}
      },
      "source": [
        "bus_stop_null"
      ],
      "execution_count": null,
      "outputs": []
    },
    {
      "cell_type": "code",
      "metadata": {
        "id": "WM3wkDM2B9QK",
        "colab_type": "code",
        "colab": {}
      },
      "source": [
        "bus_stop_list = list(bus_stop_df['관리번호'])"
      ],
      "execution_count": null,
      "outputs": []
    },
    {
      "cell_type": "code",
      "metadata": {
        "id": "8ttOC-yaBavt",
        "colab_type": "code",
        "colab": {}
      },
      "source": [
        "null_bus_dong=[]\n",
        "for i in bus_stop_null_list:\n",
        "    for k in bus_stop_list:\n",
        "        if i==k:\n",
        "            null_bus_dong.append(bus_stop_df[bus_stop_df['관리번호']==k]['행정구역'].to_string().split('    ')[1])"
      ],
      "execution_count": null,
      "outputs": []
    },
    {
      "cell_type": "code",
      "metadata": {
        "id": "EhPLsKyKCCXJ",
        "colab_type": "code",
        "colab": {}
      },
      "source": [
        "bus_stop_null['행정구역']=null_bus_dong\n",
        "bus_stop_null"
      ],
      "execution_count": null,
      "outputs": []
    },
    {
      "cell_type": "markdown",
      "metadata": {
        "id": "uTL2HmanC4tW",
        "colab_type": "text"
      },
      "source": [
        "주소 有"
      ]
    },
    {
      "cell_type": "code",
      "metadata": {
        "id": "hS8FhI1BCw3L",
        "colab_type": "code",
        "colab": {}
      },
      "source": [
        "bus_information_full = bus_information_df[bus_information_df['주소'].isnull()==False]\n",
        "bus_information_full"
      ],
      "execution_count": null,
      "outputs": []
    },
    {
      "cell_type": "code",
      "metadata": {
        "id": "bLyRJzv2C9sp",
        "colab_type": "code",
        "colab": {}
      },
      "source": [
        "bus_information_full_list = list(bus_information_full['주소'])\n",
        "bus_information_full_dong_list = []\n",
        "for i in range(len(bus_information_full_list)):\n",
        "    bus_information_full_dong_list.append(bus_information_full_list[i].split(' ')[1])\n",
        "    \n",
        "bus_information_full_dong_list"
      ],
      "execution_count": null,
      "outputs": []
    },
    {
      "cell_type": "code",
      "metadata": {
        "id": "YK17-Hhz0yBa",
        "colab_type": "code",
        "colab": {}
      },
      "source": [
        "bus_information_full_dong_list = bus_information_full_dong_list +list(bus_stop_null['행정구역'])"
      ],
      "execution_count": null,
      "outputs": []
    },
    {
      "cell_type": "code",
      "metadata": {
        "id": "9cFCSClmEx5N",
        "colab_type": "code",
        "colab": {}
      },
      "source": [
        "address_list=list(address_df['동읍면'])\n",
        "address_list"
      ],
      "execution_count": null,
      "outputs": []
    },
    {
      "cell_type": "code",
      "metadata": {
        "id": "hfCYr5a4E9wp",
        "colab_type": "code",
        "colab": {}
      },
      "source": [
        "old_dong_list=[]\n",
        "\n",
        "for i in bus_information_full_dong_list:\n",
        "    check=False\n",
        "    for k in address_list:\n",
        "        if i==k:\n",
        "            check=True\n",
        "            break\n",
        "    if check == False:\n",
        "        old_dong_list.append(i)\n",
        "\n",
        "old_dong_set = set(old_dong_list)\n",
        "old_dong_set"
      ],
      "execution_count": null,
      "outputs": []
    },
    {
      "cell_type": "code",
      "metadata": {
        "id": "wd8t-FBtJyNI",
        "colab_type": "code",
        "colab": {}
      },
      "source": [
        "bus_information_full_dong_list_copy = bus_information_full_dong_list\n",
        "bus_information_final_list=[]\n",
        "bus_information_dong_dict={}\n",
        "\n",
        "for k in old_dong_set:\n",
        "    \n",
        "    cnt=0\n",
        "    for j in bus_information_full_dong_list_copy:\n",
        "        if j==k:\n",
        "            cnt+=1\n",
        "    bus_information_dong_dict[k]=cnt\n",
        "\n",
        "a=len(old_dong_set)\n",
        "\n",
        "for i in bus_information_dong_dict:\n",
        "    for j in range (bus_information_dong_dict[i]):\n",
        "        bus_information_full_dong_list_copy.remove(i)\n",
        "    a-=1\n",
        "    print(i,a)\n",
        "    new_dong=input('신 주소')\n",
        "    for k in range (bus_information_dong_dict[i]):\n",
        "        bus_information_final_list.append(new_dong)"
      ],
      "execution_count": null,
      "outputs": []
    },
    {
      "cell_type": "code",
      "metadata": {
        "id": "yw7IV4skT1yn",
        "colab_type": "code",
        "colab": {}
      },
      "source": [
        "bus_information_full_dong_list_copy"
      ],
      "execution_count": null,
      "outputs": []
    },
    {
      "cell_type": "code",
      "metadata": {
        "id": "2XuXHOvJXteV",
        "colab_type": "code",
        "colab": {}
      },
      "source": [
        "bus_information_final = bus_information_full_dong_list_copy+bus_information_final_list"
      ],
      "execution_count": null,
      "outputs": []
    },
    {
      "cell_type": "code",
      "metadata": {
        "id": "Qi1cSQgHg8v5",
        "colab_type": "code",
        "colab": {}
      },
      "source": [
        "bus_information_final"
      ],
      "execution_count": null,
      "outputs": []
    },
    {
      "cell_type": "code",
      "metadata": {
        "id": "_RN1aD91WEkD",
        "colab_type": "code",
        "colab": {}
      },
      "source": [
        "gu_list=[]\n",
        "dong_list=[]\n",
        "gu_count_list=[]\n",
        "dong_count_list=[]\n",
        "\n",
        "for i in (list(set(address_df['구']))):\n",
        "    bus_information_gu_count=0\n",
        "    for j in (list(address_df[address_df['구']==i]['동읍면'])):\n",
        "        bus_information_dong_count=0\n",
        "        for k in bus_information_final:\n",
        "            if j==k:\n",
        "                bus_information_gu_count+=1\n",
        "                bus_information_dong_count+=1\n",
        "                        \n",
        "        gu_list.append(i)\n",
        "        dong_list.append(j)\n",
        "        dong_count_list.append(bus_information_dong_count)\n",
        "\n",
        "    for k in range (len(list(address_df[address_df['구']==i]['동읍면']))):\n",
        "        gu_count_list.append(bus_information_gu_count)"
      ],
      "execution_count": null,
      "outputs": []
    },
    {
      "cell_type": "code",
      "metadata": {
        "id": "kpCYJKuQhLzg",
        "colab_type": "code",
        "colab": {}
      },
      "source": [
        "# dong_list\n",
        "gu_count_list\n",
        "# dong_count_list"
      ],
      "execution_count": null,
      "outputs": []
    },
    {
      "cell_type": "code",
      "metadata": {
        "id": "JCNfF-0Phxxw",
        "colab_type": "code",
        "colab": {}
      },
      "source": [
        "data = {\"구\":gu_list,\"구별 버스 정보 안내기 수\":gu_count_list, \"동\":dong_list,\"동별 버스 정보 안내기 수\":dong_count_list}\n",
        "df = pd.DataFrame(data)\n",
        "df"
      ],
      "execution_count": null,
      "outputs": []
    },
    {
      "cell_type": "code",
      "metadata": {
        "id": "Ay5tf9wPqLpM",
        "colab_type": "code",
        "colab": {}
      },
      "source": [
        "df.to_csv('bus_info_change.csv')"
      ],
      "execution_count": null,
      "outputs": []
    }
  ]
}