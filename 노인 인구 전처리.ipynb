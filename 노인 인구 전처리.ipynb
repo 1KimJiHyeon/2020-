{
  "nbformat": 4,
  "nbformat_minor": 0,
  "metadata": {
    "colab": {
      "name": "노인 인구 전처리.ipynb",
      "provenance": [],
      "private_outputs": true,
      "collapsed_sections": []
    },
    "kernelspec": {
      "name": "python3",
      "display_name": "Python 3"
    }
  },
  "cells": [
    {
      "cell_type": "code",
      "metadata": {
        "id": "2mqo5WxPXpfW",
        "colab_type": "code",
        "colab": {}
      },
      "source": [
        "import os\n",
        "import pandas as pd\n",
        "import numpy as np\n",
        "\n",
        "from google.colab import drive"
      ],
      "execution_count": null,
      "outputs": []
    },
    {
      "cell_type": "code",
      "metadata": {
        "id": "VKQmsjYHXsVz",
        "colab_type": "code",
        "colab": {}
      },
      "source": [
        "if not os.path.exists('/content/drive'):\n",
        "  drive.mount('/content/drive')"
      ],
      "execution_count": null,
      "outputs": []
    },
    {
      "cell_type": "code",
      "metadata": {
        "id": "VSqms2vgXtkf",
        "colab_type": "code",
        "colab": {}
      },
      "source": [
        "from google.colab import drive\n",
        "drive.mount('/content/drive')"
      ],
      "execution_count": null,
      "outputs": []
    },
    {
      "cell_type": "code",
      "metadata": {
        "id": "tmQ-NiGXYNsL",
        "colab_type": "code",
        "colab": {}
      },
      "source": [
        "cd '/content/drive/My Drive/dataset/people'"
      ],
      "execution_count": null,
      "outputs": []
    },
    {
      "cell_type": "code",
      "metadata": {
        "id": "yyldCwdbe1lN",
        "colab_type": "code",
        "colab": {}
      },
      "source": [
        "path_dir = '/content/drive/My Drive/dataset/people'\n",
        " \n",
        "file_list = os.listdir(path_dir)"
      ],
      "execution_count": null,
      "outputs": []
    },
    {
      "cell_type": "code",
      "metadata": {
        "id": "z4MBQ6poe4Q5",
        "colab_type": "code",
        "colab": {}
      },
      "source": [
        "file_list"
      ],
      "execution_count": null,
      "outputs": []
    },
    {
      "cell_type": "code",
      "metadata": {
        "id": "4LOzC5GRryvV",
        "colab_type": "code",
        "colab": {}
      },
      "source": [
        "gu = []\n",
        "gu_total_old=[]\n",
        "gu_old_percent=[]\n",
        "dong=[]\n",
        "dong_total_old=[]\n",
        "dong_old_percent=[]"
      ],
      "execution_count": null,
      "outputs": []
    },
    {
      "cell_type": "code",
      "metadata": {
        "id": "f0ZXNYrlmo_g",
        "colab_type": "code",
        "colab": {}
      },
      "source": [
        "for i in file_list:\n",
        "    total_df = pd.read_excel(i,sheet_name='Sheet1')\n",
        "    old_df = total_df[65:]\n",
        "\n",
        "\n",
        "\n",
        "    name = total_df.columns[1]\n",
        "    gu_total_people = total_df[name].sum()\n",
        "    gu_old_people = old_df[name].sum()\n",
        "    gu_old_people_percent = gu_old_people/gu_total_people*100\n",
        "\n",
        "    gu_list = old_df.columns[2:]\n",
        "\n",
        "    for j in gu_list:\n",
        "        dong_total_people=total_df[j].sum()\n",
        "        dong_old_people=old_df[j].sum()\n",
        "        dong_old_people_percent = dong_old_people/dong_total_people*100\n",
        "\n",
        "        gu.append(name.split(' ')[1])\n",
        "        gu_total_old.append(gu_old_people)\n",
        "        gu_old_percent.append(gu_old_people_percent)\n",
        "        dong.append(j)\n",
        "        dong_total_old.append(dong_old_people)\n",
        "        dong_old_percent.append(dong_old_people_percent)"
      ],
      "execution_count": null,
      "outputs": []
    },
    {
      "cell_type": "code",
      "metadata": {
        "id": "QLvKNkaj6x_T",
        "colab_type": "code",
        "colab": {}
      },
      "source": [
        "data = {\"구\":gu,\"구별 총 노인수\":gu_total_old, \"구별 노인 비율\":gu_old_percent,\"동\":dong,\"동별 총 노인수\":dong_total_old,\"동별 노인 비율\":dong_old_percent}\n",
        "old_people_DataFrame = pd.DataFrame(data)"
      ],
      "execution_count": null,
      "outputs": []
    },
    {
      "cell_type": "code",
      "metadata": {
        "id": "tubNkHcoURD-",
        "colab_type": "code",
        "colab": {}
      },
      "source": [
        "old_people_DataFrame"
      ],
      "execution_count": null,
      "outputs": []
    },
    {
      "cell_type": "code",
      "metadata": {
        "id": "Jb7tDii-Ueb1",
        "colab_type": "code",
        "colab": {}
      },
      "source": [
        "old_people_DataFrame.to_csv('old_people_DataFrame.csv',encoding = 'UTF-8')"
      ],
      "execution_count": null,
      "outputs": []
    },
    {
      "cell_type": "code",
      "metadata": {
        "id": "9ck2ZskBr2Sc",
        "colab_type": "code",
        "colab": {}
      },
      "source": [
        "# old_people_DataFrame = pd.DataFrame(index = [gu,gu_total_old,gu_old_percent,dong,dong_total_old,dong_old_percent])"
      ],
      "execution_count": null,
      "outputs": []
    },
    {
      "cell_type": "code",
      "metadata": {
        "id": "fWtVPKq4sIhf",
        "colab_type": "code",
        "colab": {}
      },
      "source": [
        "# pd.set_option('display.max_rows', 500)\n",
        "\n",
        "# old_people_DataFrame"
      ],
      "execution_count": null,
      "outputs": []
    }
  ]
}