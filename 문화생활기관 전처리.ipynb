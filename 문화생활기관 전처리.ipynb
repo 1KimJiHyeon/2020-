{
  "nbformat": 4,
  "nbformat_minor": 0,
  "metadata": {
    "colab": {
      "name": "문화생활기관 전처리.ipynb",
      "provenance": [],
      "private_outputs": true,
      "collapsed_sections": [],
      "authorship_tag": "ABX9TyM26Dyosf7u9yrAeFE0HwmB",
      "include_colab_link": true
    },
    "kernelspec": {
      "name": "python3",
      "display_name": "Python 3"
    }
  },
  "cells": [
    {
      "cell_type": "markdown",
      "metadata": {
        "id": "view-in-github",
        "colab_type": "text"
      },
      "source": [
        "<a href=\"https://colab.research.google.com/github/1KimJiHyeon/2020-Changwon-BigData-Contest/blob/master/%EB%AC%B8%ED%99%94%EC%83%9D%ED%99%9C%EA%B8%B0%EA%B4%80%20%EC%A0%84%EC%B2%98%EB%A6%AC.ipynb\" target=\"_parent\"><img src=\"https://colab.research.google.com/assets/colab-badge.svg\" alt=\"Open In Colab\"/></a>"
      ]
    },
    {
      "cell_type": "code",
      "metadata": {
        "id": "mUhGRRDuKUVg",
        "colab_type": "code",
        "colab": {}
      },
      "source": [
        "import os\n",
        "import pandas as pd\n",
        "import numpy as np\n",
        "\n",
        "from google.colab import drive"
      ],
      "execution_count": null,
      "outputs": []
    },
    {
      "cell_type": "code",
      "metadata": {
        "id": "AXcIK5gLKVzo",
        "colab_type": "code",
        "colab": {}
      },
      "source": [
        "if not os.path.exists('/content/drive'):\n",
        "  drive.mount('/content/drive')"
      ],
      "execution_count": null,
      "outputs": []
    },
    {
      "cell_type": "code",
      "metadata": {
        "id": "hm2BaFe6KWww",
        "colab_type": "code",
        "colab": {}
      },
      "source": [
        "cd '/content/drive/My Drive/dataset'"
      ],
      "execution_count": null,
      "outputs": []
    },
    {
      "cell_type": "code",
      "metadata": {
        "id": "OaxuC6BkKeqy",
        "colab_type": "code",
        "colab": {}
      },
      "source": [
        "enjoy_df = pd.read_excel('enjoy.xlsx',sheet_name='Sheet1')"
      ],
      "execution_count": null,
      "outputs": []
    },
    {
      "cell_type": "code",
      "metadata": {
        "id": "wt1VsPD3Kkhb",
        "colab_type": "code",
        "colab": {}
      },
      "source": [
        "address_df = pd.read_excel('address.xlsx',sheet_name='Sheet1')"
      ],
      "execution_count": null,
      "outputs": []
    },
    {
      "cell_type": "code",
      "metadata": {
        "id": "rTlOy4piKl6p",
        "colab_type": "code",
        "colab": {}
      },
      "source": [
        "enjoy_df.drop(['구분','도서관명','소재지','개관일','전화번호','비 고'], axis=1, inplace=True)"
      ],
      "execution_count": null,
      "outputs": []
    },
    {
      "cell_type": "code",
      "metadata": {
        "id": "eWDt_53kKqrD",
        "colab_type": "code",
        "colab": {}
      },
      "source": [
        "enjoy_df"
      ],
      "execution_count": null,
      "outputs": []
    },
    {
      "cell_type": "code",
      "metadata": {
        "id": "2n2gms1HKsZl",
        "colab_type": "code",
        "colab": {}
      },
      "source": [
        "# 문화생활 동 모으기\n",
        "enjoy_list = list(enjoy_df['읍면동'])\n",
        "enjoy_list"
      ],
      "execution_count": null,
      "outputs": []
    },
    {
      "cell_type": "code",
      "metadata": {
        "id": "W2-aPmRp8PRT",
        "colab_type": "code",
        "colab": {}
      },
      "source": [
        "# 신주소 동 모으기\n",
        "address_list=list(address_df['동읍면'])\n",
        "address_list"
      ],
      "execution_count": null,
      "outputs": []
    },
    {
      "cell_type": "code",
      "metadata": {
        "id": "6M_AkdMm8Nrw",
        "colab_type": "code",
        "colab": {}
      },
      "source": [
        "#구주소 찾기\n",
        "old_dong_list=[]\n",
        "\n",
        "for i in enjoy_list:\n",
        "    check=False\n",
        "    for k in address_list:\n",
        "        if i==k:\n",
        "            check=True\n",
        "            break\n",
        "    if check == False:\n",
        "        old_dong_list.append(i)\n",
        "\n",
        "old_dong_set = set(old_dong_list)\n",
        "old_dong_set"
      ],
      "execution_count": null,
      "outputs": []
    },
    {
      "cell_type": "code",
      "metadata": {
        "id": "sxYlC2NS8B4M",
        "colab_type": "code",
        "colab": {}
      },
      "source": [
        "# 구주소 신주소로 바꾸기\n",
        "enjoy_list_copy = enjoy_list\n",
        "enjoy_final_list=[]\n",
        "enjoy_dong_dict={}\n",
        "\n",
        "\n",
        "for k in old_dong_set: \n",
        "    cnt=0\n",
        "    for j in enjoy_list_copy:\n",
        "        if j==k:\n",
        "            cnt+=1\n",
        "    enjoy_dong_dict[k]=cnt\n",
        "\n",
        "a=len(old_dong_set)\n",
        "\n",
        "for i in enjoy_dong_dict:\n",
        "    for j in range (enjoy_dong_dict[i]):\n",
        "        enjoy_list_copy.remove(i)\n",
        "    a-=1\n",
        "    print(i,a)\n",
        "    new_dong=input('신 주소')\n",
        "    for k in range (enjoy_dong_dict[i]):\n",
        "        enjoy_final_list.append(new_dong)"
      ],
      "execution_count": null,
      "outputs": []
    },
    {
      "cell_type": "code",
      "metadata": {
        "id": "laQ2HMNs9YbL",
        "colab_type": "code",
        "colab": {}
      },
      "source": [
        "enjoy_final = enjoy_list_copy + enjoy_final_list"
      ],
      "execution_count": null,
      "outputs": []
    },
    {
      "cell_type": "code",
      "metadata": {
        "id": "V58xyZOVKwxT",
        "colab_type": "code",
        "colab": {}
      },
      "source": [
        "gu_list=[]\n",
        "dong_list=[]\n",
        "gu_count_list=[]\n",
        "dong_count_list=[]\n",
        "\n",
        "for i in (list(set(address_df['구']))):\n",
        "    enjoy_gu_count=0\n",
        "    for j in (list(address_df[address_df['구']==i]['동읍면'])):\n",
        "        enjoy_dong_count=0\n",
        "        for k in enjoy_final:\n",
        "            if j==k:\n",
        "                enjoy_gu_count+=1\n",
        "                enjoy_dong_count+=1\n",
        "                        \n",
        "        gu_list.append(i)\n",
        "        dong_list.append(j)\n",
        "        dong_count_list.append(enjoy_dong_count)\n",
        "\n",
        "    for k in range (len(list(address_df[address_df['구']==i]['동읍면']))):\n",
        "        gu_count_list.append(enjoy_gu_count)"
      ],
      "execution_count": null,
      "outputs": []
    },
    {
      "cell_type": "code",
      "metadata": {
        "id": "cmyDHgF1K6Q9",
        "colab_type": "code",
        "colab": {}
      },
      "source": [
        "data = {\"구\":gu_list,\"구별 문화생활 수\":gu_count_list, \"동\":dong_list,\"동별 문화생활 수\":dong_count_list}\n",
        "enjoy_DataFrame = pd.DataFrame(data)\n",
        "enjoy_DataFrame"
      ],
      "execution_count": null,
      "outputs": []
    },
    {
      "cell_type": "code",
      "metadata": {
        "id": "oyQ4o0q1X26I",
        "colab_type": "code",
        "colab": {}
      },
      "source": [
        "enjoy_DataFrame.to_csv('enjoy_DataFrame.csv',encoding = 'UTF-8')"
      ],
      "execution_count": null,
      "outputs": []
    }
  ]
}